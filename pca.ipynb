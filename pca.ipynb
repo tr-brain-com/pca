{
 "cells": [
  {
   "cell_type": "code",
   "execution_count": 1,
   "metadata": {},
   "outputs": [],
   "source": [
    "import pandas as pd\n",
    "import matplotlib.pyplot as plt\n",
    "import seaborn as sns\n",
    "import numpy as np\n",
    "from sklearn.model_selection import train_test_split\n",
    "from sklearn.impute import SimpleImputer\n",
    "from sklearn import preprocessing\n",
    "from sklearn.preprocessing import StandardScaler\n",
    "from sklearn.decomposition import PCA\n",
    "\n",
    "from sklearn.ensemble import RandomForestClassifier\n",
    "from sklearn.tree import DecisionTreeClassifier\n",
    "from sklearn.linear_model import LogisticRegression\n",
    "from sklearn.svm import SVC\n",
    "from sklearn.neural_network import MLPClassifier\n",
    "from sklearn.neighbors import KNeighborsClassifier\n",
    "from sklearn.metrics import accuracy_score\n",
    "from sklearn.metrics import confusion_matrix\n",
    "from sklearn.metrics import precision_score\n",
    "from sklearn.metrics import recall_score\n",
    "from sklearn.metrics import f1_score\n",
    "from sklearn.metrics import roc_curve\n",
    "import time\n",
    "from imblearn.over_sampling import SMOTE\n",
    "from sklearn.model_selection import train_test_split\n",
    "from collections import Counter\n",
    "from sklearn.preprocessing import LabelEncoder\n",
    "from sklearn.manifold import TSNE"
   ]
  },
  {
   "cell_type": "code",
   "execution_count": 2,
   "metadata": {},
   "outputs": [
    {
     "data": {
      "text/html": [
       "<div>\n",
       "<style scoped>\n",
       "    .dataframe tbody tr th:only-of-type {\n",
       "        vertical-align: middle;\n",
       "    }\n",
       "\n",
       "    .dataframe tbody tr th {\n",
       "        vertical-align: top;\n",
       "    }\n",
       "\n",
       "    .dataframe thead th {\n",
       "        text-align: right;\n",
       "    }\n",
       "</style>\n",
       "<table border=\"1\" class=\"dataframe\">\n",
       "  <thead>\n",
       "    <tr style=\"text-align: right;\">\n",
       "      <th></th>\n",
       "      <th>sepal_length</th>\n",
       "      <th>sepal_weight</th>\n",
       "      <th>petal_length</th>\n",
       "      <th>petal_width</th>\n",
       "      <th>class_name</th>\n",
       "    </tr>\n",
       "  </thead>\n",
       "  <tbody>\n",
       "    <tr>\n",
       "      <th>0</th>\n",
       "      <td>5.1</td>\n",
       "      <td>3.5</td>\n",
       "      <td>1.4</td>\n",
       "      <td>0.2</td>\n",
       "      <td>Iris-setosa</td>\n",
       "    </tr>\n",
       "    <tr>\n",
       "      <th>1</th>\n",
       "      <td>4.9</td>\n",
       "      <td>3.0</td>\n",
       "      <td>1.4</td>\n",
       "      <td>0.2</td>\n",
       "      <td>Iris-setosa</td>\n",
       "    </tr>\n",
       "    <tr>\n",
       "      <th>2</th>\n",
       "      <td>4.7</td>\n",
       "      <td>3.2</td>\n",
       "      <td>1.3</td>\n",
       "      <td>0.2</td>\n",
       "      <td>Iris-setosa</td>\n",
       "    </tr>\n",
       "    <tr>\n",
       "      <th>3</th>\n",
       "      <td>4.6</td>\n",
       "      <td>3.1</td>\n",
       "      <td>1.5</td>\n",
       "      <td>0.2</td>\n",
       "      <td>Iris-setosa</td>\n",
       "    </tr>\n",
       "    <tr>\n",
       "      <th>4</th>\n",
       "      <td>5.0</td>\n",
       "      <td>3.6</td>\n",
       "      <td>1.4</td>\n",
       "      <td>0.2</td>\n",
       "      <td>Iris-setosa</td>\n",
       "    </tr>\n",
       "    <tr>\n",
       "      <th>...</th>\n",
       "      <td>...</td>\n",
       "      <td>...</td>\n",
       "      <td>...</td>\n",
       "      <td>...</td>\n",
       "      <td>...</td>\n",
       "    </tr>\n",
       "    <tr>\n",
       "      <th>145</th>\n",
       "      <td>6.7</td>\n",
       "      <td>3.0</td>\n",
       "      <td>5.2</td>\n",
       "      <td>2.3</td>\n",
       "      <td>Iris-virginica</td>\n",
       "    </tr>\n",
       "    <tr>\n",
       "      <th>146</th>\n",
       "      <td>6.3</td>\n",
       "      <td>2.5</td>\n",
       "      <td>5.0</td>\n",
       "      <td>1.9</td>\n",
       "      <td>Iris-virginica</td>\n",
       "    </tr>\n",
       "    <tr>\n",
       "      <th>147</th>\n",
       "      <td>6.5</td>\n",
       "      <td>3.0</td>\n",
       "      <td>5.2</td>\n",
       "      <td>2.0</td>\n",
       "      <td>Iris-virginica</td>\n",
       "    </tr>\n",
       "    <tr>\n",
       "      <th>148</th>\n",
       "      <td>6.2</td>\n",
       "      <td>3.4</td>\n",
       "      <td>5.4</td>\n",
       "      <td>2.3</td>\n",
       "      <td>Iris-virginica</td>\n",
       "    </tr>\n",
       "    <tr>\n",
       "      <th>149</th>\n",
       "      <td>5.9</td>\n",
       "      <td>3.0</td>\n",
       "      <td>5.1</td>\n",
       "      <td>1.8</td>\n",
       "      <td>Iris-virginica</td>\n",
       "    </tr>\n",
       "  </tbody>\n",
       "</table>\n",
       "<p>150 rows × 5 columns</p>\n",
       "</div>"
      ],
      "text/plain": [
       "     sepal_length  sepal_weight  petal_length  petal_width      class_name\n",
       "0             5.1           3.5           1.4          0.2     Iris-setosa\n",
       "1             4.9           3.0           1.4          0.2     Iris-setosa\n",
       "2             4.7           3.2           1.3          0.2     Iris-setosa\n",
       "3             4.6           3.1           1.5          0.2     Iris-setosa\n",
       "4             5.0           3.6           1.4          0.2     Iris-setosa\n",
       "..            ...           ...           ...          ...             ...\n",
       "145           6.7           3.0           5.2          2.3  Iris-virginica\n",
       "146           6.3           2.5           5.0          1.9  Iris-virginica\n",
       "147           6.5           3.0           5.2          2.0  Iris-virginica\n",
       "148           6.2           3.4           5.4          2.3  Iris-virginica\n",
       "149           5.9           3.0           5.1          1.8  Iris-virginica\n",
       "\n",
       "[150 rows x 5 columns]"
      ]
     },
     "execution_count": 2,
     "metadata": {},
     "output_type": "execute_result"
    }
   ],
   "source": [
    "data = pd.read_csv(\"iris.data\", sep= \",\", header=None, names=[\"sepal_length\",\"sepal_weight\",\"petal_length\",\"petal_width\",\"class_name\"])\n",
    "data"
   ]
  },
  {
   "cell_type": "code",
   "execution_count": 3,
   "metadata": {},
   "outputs": [],
   "source": [
    "le     = preprocessing.LabelEncoder()\n",
    "data[\"class\"] = le.fit_transform(data[\"class_name\"])"
   ]
  },
  {
   "cell_type": "code",
   "execution_count": 4,
   "metadata": {},
   "outputs": [
    {
     "data": {
      "text/html": [
       "<div>\n",
       "<style scoped>\n",
       "    .dataframe tbody tr th:only-of-type {\n",
       "        vertical-align: middle;\n",
       "    }\n",
       "\n",
       "    .dataframe tbody tr th {\n",
       "        vertical-align: top;\n",
       "    }\n",
       "\n",
       "    .dataframe thead th {\n",
       "        text-align: right;\n",
       "    }\n",
       "</style>\n",
       "<table border=\"1\" class=\"dataframe\">\n",
       "  <thead>\n",
       "    <tr style=\"text-align: right;\">\n",
       "      <th></th>\n",
       "      <th>sepal_length</th>\n",
       "      <th>sepal_weight</th>\n",
       "      <th>petal_length</th>\n",
       "      <th>petal_width</th>\n",
       "      <th>class_name</th>\n",
       "      <th>class</th>\n",
       "    </tr>\n",
       "  </thead>\n",
       "  <tbody>\n",
       "    <tr>\n",
       "      <th>0</th>\n",
       "      <td>5.1</td>\n",
       "      <td>3.5</td>\n",
       "      <td>1.4</td>\n",
       "      <td>0.2</td>\n",
       "      <td>Iris-setosa</td>\n",
       "      <td>0</td>\n",
       "    </tr>\n",
       "    <tr>\n",
       "      <th>1</th>\n",
       "      <td>4.9</td>\n",
       "      <td>3.0</td>\n",
       "      <td>1.4</td>\n",
       "      <td>0.2</td>\n",
       "      <td>Iris-setosa</td>\n",
       "      <td>0</td>\n",
       "    </tr>\n",
       "    <tr>\n",
       "      <th>2</th>\n",
       "      <td>4.7</td>\n",
       "      <td>3.2</td>\n",
       "      <td>1.3</td>\n",
       "      <td>0.2</td>\n",
       "      <td>Iris-setosa</td>\n",
       "      <td>0</td>\n",
       "    </tr>\n",
       "    <tr>\n",
       "      <th>3</th>\n",
       "      <td>4.6</td>\n",
       "      <td>3.1</td>\n",
       "      <td>1.5</td>\n",
       "      <td>0.2</td>\n",
       "      <td>Iris-setosa</td>\n",
       "      <td>0</td>\n",
       "    </tr>\n",
       "    <tr>\n",
       "      <th>4</th>\n",
       "      <td>5.0</td>\n",
       "      <td>3.6</td>\n",
       "      <td>1.4</td>\n",
       "      <td>0.2</td>\n",
       "      <td>Iris-setosa</td>\n",
       "      <td>0</td>\n",
       "    </tr>\n",
       "    <tr>\n",
       "      <th>5</th>\n",
       "      <td>5.4</td>\n",
       "      <td>3.9</td>\n",
       "      <td>1.7</td>\n",
       "      <td>0.4</td>\n",
       "      <td>Iris-setosa</td>\n",
       "      <td>0</td>\n",
       "    </tr>\n",
       "  </tbody>\n",
       "</table>\n",
       "</div>"
      ],
      "text/plain": [
       "   sepal_length  sepal_weight  petal_length  petal_width   class_name  class\n",
       "0           5.1           3.5           1.4          0.2  Iris-setosa      0\n",
       "1           4.9           3.0           1.4          0.2  Iris-setosa      0\n",
       "2           4.7           3.2           1.3          0.2  Iris-setosa      0\n",
       "3           4.6           3.1           1.5          0.2  Iris-setosa      0\n",
       "4           5.0           3.6           1.4          0.2  Iris-setosa      0\n",
       "5           5.4           3.9           1.7          0.4  Iris-setosa      0"
      ]
     },
     "execution_count": 4,
     "metadata": {},
     "output_type": "execute_result"
    }
   ],
   "source": [
    "data.head(6)"
   ]
  },
  {
   "cell_type": "code",
   "execution_count": 5,
   "metadata": {},
   "outputs": [
    {
     "data": {
      "image/png": "[encoded data removed]",
      "text/plain": [
       "<Figure size 640x480 with 1 Axes>"
      ]
     },
     "metadata": {},
     "output_type": "display_data"
    }
   ],
   "source": [
    "sns.countplot(x= \"class_name\", data=data)\n",
    "plt.title(\"Dataset Class Value Counts\")\n",
    "plt.show()"
   ]
  },
  {
   "cell_type": "code",
   "execution_count": 6,
   "metadata": {},
   "outputs": [],
   "source": [
    "X = data.iloc[:, :-2].values\n",
    "y = data.iloc[:, -1].values"
   ]
  },
  {
   "cell_type": "code",
   "execution_count": 7,
   "metadata": {},
   "outputs": [],
   "source": [
    "X_train, X_test, Y_train, Y_test = train_test_split(X, y, test_size=0.2, random_state=110)"
   ]
  },
  {
   "attachments": {},
   "cell_type": "markdown",
   "metadata": {},
   "source": [
    "# Ham data ile train yapalım ve sonra diğer aşamaları göre sonuçları karşılaştıralım"
   ]
  },
  {
   "cell_type": "code",
   "execution_count": 8,
   "metadata": {},
   "outputs": [],
   "source": [
    "models = [\n",
    "    LogisticRegression(multi_class='multinomial'),\n",
    "    KNeighborsClassifier(n_neighbors=10),\n",
    "    DecisionTreeClassifier(criterion='entropy',max_depth=20),\n",
    "    RandomForestClassifier(n_estimators=110, max_depth=20, criterion='entropy'),\n",
    "    SVC(),\n",
    "    MLPClassifier(),\n",
    "]\n",
    "\n",
    "models_description = [\n",
    "    \"Logistic Regression\",\n",
    "    \"K-Nearest Neigbors\",\n",
    "    \"Decision Tree Classifier\",\n",
    "    \"Random Forest\",\n",
    "    \"Support Vector Machines (SVM)\",\n",
    "    \"Neural Network (Multi Layer Perceptron)\",\n",
    "]"
   ]
  },
  {
   "cell_type": "code",
   "execution_count": 9,
   "metadata": {},
   "outputs": [
    {
     "name": "stderr",
     "output_type": "stream",
     "text": [
      "/home/thecoderman/data/Python Apps/text_classification_eda/venv/lib/python3.10/site-packages/sklearn/neural_network/_multilayer_perceptron.py:686: ConvergenceWarning: Stochastic Optimizer: Maximum iterations (200) reached and the optimization hasn't converged yet.\n",
      "  warnings.warn(\n"
     ]
    }
   ],
   "source": [
    "results = {}\n",
    "\n",
    "for index in range(len(models)):\n",
    "    start_time = time.time()\n",
    "    model = models[index]\n",
    "    model.fit(X, y)\n",
    "\n",
    "    Y_pred = model.predict(X_test)\n",
    "    training_time = time.time() - start_time\n",
    "\n",
    "    results[models_description[index]] = [accuracy_score(Y_test, Y_pred),\n",
    "                                  precision_score(Y_test, Y_pred, average='weighted'),\n",
    "                                  recall_score(Y_test, Y_pred, average='weighted'),\n",
    "                                  f1_score(Y_test, Y_pred, average='weighted'),\n",
    "                                  training_time]"
   ]
  },
  {
   "cell_type": "code",
   "execution_count": 10,
   "metadata": {},
   "outputs": [
    {
     "data": {
      "text/html": [
       "<div>\n",
       "<style scoped>\n",
       "    .dataframe tbody tr th:only-of-type {\n",
       "        vertical-align: middle;\n",
       "    }\n",
       "\n",
       "    .dataframe tbody tr th {\n",
       "        vertical-align: top;\n",
       "    }\n",
       "\n",
       "    .dataframe thead th {\n",
       "        text-align: right;\n",
       "    }\n",
       "</style>\n",
       "<table border=\"1\" class=\"dataframe\">\n",
       "  <thead>\n",
       "    <tr style=\"text-align: right;\">\n",
       "      <th></th>\n",
       "      <th>Accuracy</th>\n",
       "      <th>Precision</th>\n",
       "      <th>Recall</th>\n",
       "      <th>F1-Score</th>\n",
       "      <th>Training Time</th>\n",
       "    </tr>\n",
       "  </thead>\n",
       "  <tbody>\n",
       "    <tr>\n",
       "      <th>Decision Tree Classifier</th>\n",
       "      <td>1.000000</td>\n",
       "      <td>1.000000</td>\n",
       "      <td>1.000000</td>\n",
       "      <td>1.000000</td>\n",
       "      <td>0.001031</td>\n",
       "    </tr>\n",
       "    <tr>\n",
       "      <th>Random Forest</th>\n",
       "      <td>1.000000</td>\n",
       "      <td>1.000000</td>\n",
       "      <td>1.000000</td>\n",
       "      <td>1.000000</td>\n",
       "      <td>0.098489</td>\n",
       "    </tr>\n",
       "    <tr>\n",
       "      <th>Neural Network (Multi Layer Perceptron)</th>\n",
       "      <td>0.966667</td>\n",
       "      <td>0.973333</td>\n",
       "      <td>0.966667</td>\n",
       "      <td>0.968013</td>\n",
       "      <td>0.060785</td>\n",
       "    </tr>\n",
       "    <tr>\n",
       "      <th>Logistic Regression</th>\n",
       "      <td>0.966667</td>\n",
       "      <td>0.968519</td>\n",
       "      <td>0.966667</td>\n",
       "      <td>0.964762</td>\n",
       "      <td>0.019868</td>\n",
       "    </tr>\n",
       "    <tr>\n",
       "      <th>K-Nearest Neigbors</th>\n",
       "      <td>0.966667</td>\n",
       "      <td>0.968519</td>\n",
       "      <td>0.966667</td>\n",
       "      <td>0.964762</td>\n",
       "      <td>0.002500</td>\n",
       "    </tr>\n",
       "    <tr>\n",
       "      <th>Support Vector Machines (SVM)</th>\n",
       "      <td>0.966667</td>\n",
       "      <td>0.968519</td>\n",
       "      <td>0.966667</td>\n",
       "      <td>0.964762</td>\n",
       "      <td>0.000739</td>\n",
       "    </tr>\n",
       "  </tbody>\n",
       "</table>\n",
       "</div>"
      ],
      "text/plain": [
       "                                         Accuracy  Precision    Recall   \n",
       "Decision Tree Classifier                 1.000000   1.000000  1.000000  \\\n",
       "Random Forest                            1.000000   1.000000  1.000000   \n",
       "Neural Network (Multi Layer Perceptron)  0.966667   0.973333  0.966667   \n",
       "Logistic Regression                      0.966667   0.968519  0.966667   \n",
       "K-Nearest Neigbors                       0.966667   0.968519  0.966667   \n",
       "Support Vector Machines (SVM)            0.966667   0.968519  0.966667   \n",
       "\n",
       "                                         F1-Score  Training Time  \n",
       "Decision Tree Classifier                 1.000000       0.001031  \n",
       "Random Forest                            1.000000       0.098489  \n",
       "Neural Network (Multi Layer Perceptron)  0.968013       0.060785  \n",
       "Logistic Regression                      0.964762       0.019868  \n",
       "K-Nearest Neigbors                       0.964762       0.002500  \n",
       "Support Vector Machines (SVM)            0.964762       0.000739  "
      ]
     },
     "execution_count": 10,
     "metadata": {},
     "output_type": "execute_result"
    }
   ],
   "source": [
    "df_results = pd.DataFrame.from_dict(results, orient='index', columns=[\"Accuracy\", \"Precision\", \"Recall\", \"F1-Score\", \"Training Time\"] )\n",
    "df_results.sort_values(by=\"F1-Score\", ascending= False, na_position= \"first\")"
   ]
  },
  {
   "attachments": {},
   "cell_type": "markdown",
   "metadata": {},
   "source": [
    "# Şimdi bağımsız değişkenlerin etkilerin igözlemleyelim."
   ]
  },
  {
   "cell_type": "code",
   "execution_count": 11,
   "metadata": {},
   "outputs": [],
   "source": [
    "x_scaled = StandardScaler().fit_transform(X)"
   ]
  },
  {
   "cell_type": "code",
   "execution_count": 12,
   "metadata": {},
   "outputs": [
    {
     "data": {
      "text/plain": [
       "array([2.93035378, 0.92740362, 0.14834223, 0.02074601])"
      ]
     },
     "execution_count": 12,
     "metadata": {},
     "output_type": "execute_result"
    }
   ],
   "source": [
    "pca = PCA(n_components=4)\n",
    " \n",
    "pca_features = pca.fit_transform(x_scaled)\n",
    " \n",
    "pca.explained_variance_"
   ]
  },
  {
   "cell_type": "code",
   "execution_count": 13,
   "metadata": {},
   "outputs": [
    {
     "data": {
      "image/png": "[encoded data removed]",
      "text/plain": [
       "<Figure size 640x480 with 1 Axes>"
      ]
     },
     "metadata": {},
     "output_type": "display_data"
    }
   ],
   "source": [
    "sns.set()\n",
    "\n",
    "plt.bar(\n",
    "    range(1,len(pca.explained_variance_)+1),\n",
    "    pca.explained_variance_\n",
    "    )\n",
    " \n",
    "plt.xlabel('PCA Feature')\n",
    "plt.ylabel('Explained variance')\n",
    "plt.title('Feature Explained Variance')\n",
    "plt.show()"
   ]
  },
  {
   "attachments": {},
   "cell_type": "markdown",
   "metadata": {},
   "source": [
    "Bu grafik, bizim kullandığımız 4 özelik yerine 3 özellik kullanmanın doğru olacağını gösteriyor. o halde önce 3 özelliğe indirerek devam edelim"
   ]
  },
  {
   "cell_type": "code",
   "execution_count": 14,
   "metadata": {},
   "outputs": [
    {
     "name": "stdout",
     "output_type": "stream",
     "text": [
      "PCA öncesi :  (150, 4)\n",
      "PCA sonrası :  (150, 3)\n"
     ]
    }
   ],
   "source": [
    "pca = PCA(n_components=3)\n",
    "pca_feat = pca.fit_transform(x_scaled)\n",
    "\n",
    "print('PCA öncesi : ', x_scaled.shape)\n",
    "print('PCA sonrası : ', pca_feat.shape)"
   ]
  },
  {
   "cell_type": "code",
   "execution_count": 15,
   "metadata": {},
   "outputs": [],
   "source": [
    "pca_df = pd.DataFrame(\n",
    "    data=pca_feat, \n",
    "    columns=[\"sepal_length\",\"sepal_weight\",\"petal_length\"])"
   ]
  },
  {
   "cell_type": "code",
   "execution_count": 16,
   "metadata": {},
   "outputs": [],
   "source": [
    "pca_df[\"class_name\"] = data[\"class_name\"]\n",
    "pca_df[\"class\"] = y"
   ]
  },
  {
   "attachments": {},
   "cell_type": "markdown",
   "metadata": {},
   "source": [
    "# 3 özellik ile train yapalım ve sonuçları gözlemleyelim"
   ]
  },
  {
   "cell_type": "code",
   "execution_count": 17,
   "metadata": {},
   "outputs": [],
   "source": [
    "X = pca_df.iloc[:, :-2].values\n",
    "y = pca_df.iloc[:, -1].values"
   ]
  },
  {
   "cell_type": "code",
   "execution_count": 18,
   "metadata": {},
   "outputs": [],
   "source": [
    "X_train, X_test, Y_train, Y_test = train_test_split(X, y, test_size=0.2, random_state=110)"
   ]
  },
  {
   "cell_type": "code",
   "execution_count": 19,
   "metadata": {},
   "outputs": [
    {
     "name": "stderr",
     "output_type": "stream",
     "text": [
      "/home/thecoderman/data/Python Apps/text_classification_eda/venv/lib/python3.10/site-packages/sklearn/neural_network/_multilayer_perceptron.py:686: ConvergenceWarning: Stochastic Optimizer: Maximum iterations (200) reached and the optimization hasn't converged yet.\n",
      "  warnings.warn(\n"
     ]
    }
   ],
   "source": [
    "results = {}\n",
    "\n",
    "for index in range(len(models)):\n",
    "    start_time = time.time()\n",
    "    model = models[index]\n",
    "    model.fit(X, y)\n",
    "\n",
    "    Y_pred = model.predict(X_test)\n",
    "    training_time = time.time() - start_time\n",
    "\n",
    "    results[models_description[index]] = [accuracy_score(Y_test, Y_pred),\n",
    "                                  precision_score(Y_test, Y_pred, average='weighted'),\n",
    "                                  recall_score(Y_test, Y_pred, average='weighted'),\n",
    "                                  f1_score(Y_test, Y_pred, average='weighted'),\n",
    "                                  training_time]"
   ]
  },
  {
   "cell_type": "code",
   "execution_count": 20,
   "metadata": {},
   "outputs": [
    {
     "data": {
      "text/html": [
       "<div>\n",
       "<style scoped>\n",
       "    .dataframe tbody tr th:only-of-type {\n",
       "        vertical-align: middle;\n",
       "    }\n",
       "\n",
       "    .dataframe tbody tr th {\n",
       "        vertical-align: top;\n",
       "    }\n",
       "\n",
       "    .dataframe thead th {\n",
       "        text-align: right;\n",
       "    }\n",
       "</style>\n",
       "<table border=\"1\" class=\"dataframe\">\n",
       "  <thead>\n",
       "    <tr style=\"text-align: right;\">\n",
       "      <th></th>\n",
       "      <th>Accuracy</th>\n",
       "      <th>Precision</th>\n",
       "      <th>Recall</th>\n",
       "      <th>F1-Score</th>\n",
       "      <th>Training Time</th>\n",
       "    </tr>\n",
       "  </thead>\n",
       "  <tbody>\n",
       "    <tr>\n",
       "      <th>Logistic Regression</th>\n",
       "      <td>1.000000</td>\n",
       "      <td>1.000000</td>\n",
       "      <td>1.000000</td>\n",
       "      <td>1.000000</td>\n",
       "      <td>0.005962</td>\n",
       "    </tr>\n",
       "    <tr>\n",
       "      <th>Decision Tree Classifier</th>\n",
       "      <td>1.000000</td>\n",
       "      <td>1.000000</td>\n",
       "      <td>1.000000</td>\n",
       "      <td>1.000000</td>\n",
       "      <td>0.000923</td>\n",
       "    </tr>\n",
       "    <tr>\n",
       "      <th>Random Forest</th>\n",
       "      <td>1.000000</td>\n",
       "      <td>1.000000</td>\n",
       "      <td>1.000000</td>\n",
       "      <td>1.000000</td>\n",
       "      <td>0.110948</td>\n",
       "    </tr>\n",
       "    <tr>\n",
       "      <th>Support Vector Machines (SVM)</th>\n",
       "      <td>1.000000</td>\n",
       "      <td>1.000000</td>\n",
       "      <td>1.000000</td>\n",
       "      <td>1.000000</td>\n",
       "      <td>0.000794</td>\n",
       "    </tr>\n",
       "    <tr>\n",
       "      <th>K-Nearest Neigbors</th>\n",
       "      <td>0.966667</td>\n",
       "      <td>0.968519</td>\n",
       "      <td>0.966667</td>\n",
       "      <td>0.964762</td>\n",
       "      <td>0.002171</td>\n",
       "    </tr>\n",
       "    <tr>\n",
       "      <th>Neural Network (Multi Layer Perceptron)</th>\n",
       "      <td>0.966667</td>\n",
       "      <td>0.968519</td>\n",
       "      <td>0.966667</td>\n",
       "      <td>0.964762</td>\n",
       "      <td>0.066570</td>\n",
       "    </tr>\n",
       "  </tbody>\n",
       "</table>\n",
       "</div>"
      ],
      "text/plain": [
       "                                         Accuracy  Precision    Recall   \n",
       "Logistic Regression                      1.000000   1.000000  1.000000  \\\n",
       "Decision Tree Classifier                 1.000000   1.000000  1.000000   \n",
       "Random Forest                            1.000000   1.000000  1.000000   \n",
       "Support Vector Machines (SVM)            1.000000   1.000000  1.000000   \n",
       "K-Nearest Neigbors                       0.966667   0.968519  0.966667   \n",
       "Neural Network (Multi Layer Perceptron)  0.966667   0.968519  0.966667   \n",
       "\n",
       "                                         F1-Score  Training Time  \n",
       "Logistic Regression                      1.000000       0.005962  \n",
       "Decision Tree Classifier                 1.000000       0.000923  \n",
       "Random Forest                            1.000000       0.110948  \n",
       "Support Vector Machines (SVM)            1.000000       0.000794  \n",
       "K-Nearest Neigbors                       0.964762       0.002171  \n",
       "Neural Network (Multi Layer Perceptron)  0.964762       0.066570  "
      ]
     },
     "execution_count": 20,
     "metadata": {},
     "output_type": "execute_result"
    }
   ],
   "source": [
    "df_results = pd.DataFrame.from_dict(results, orient='index', columns=[\"Accuracy\", \"Precision\", \"Recall\", \"F1-Score\", \"Training Time\"] )\n",
    "df_results.sort_values(by=\"F1-Score\", ascending= False, na_position= \"first\")"
   ]
  },
  {
   "attachments": {},
   "cell_type": "markdown",
   "metadata": {},
   "source": [
    "# şimdi etkisi çok az olan 3. özelliği de çıkaralım ve tekrar train yapalım"
   ]
  },
  {
   "cell_type": "code",
   "execution_count": 21,
   "metadata": {},
   "outputs": [
    {
     "name": "stdout",
     "output_type": "stream",
     "text": [
      "PCA öncesi :  (150, 3)\n",
      "PCA sonrası :  (150, 2)\n"
     ]
    },
    {
     "data": {
      "text/plain": [
       "array([1.00671141, 1.00671141])"
      ]
     },
     "execution_count": 21,
     "metadata": {},
     "output_type": "execute_result"
    }
   ],
   "source": [
    "x_scaled = StandardScaler().fit_transform(X)\n",
    "\n",
    "pca = PCA(n_components=2)\n",
    "pca_feat = pca.fit_transform(x_scaled)\n",
    "\n",
    "print('PCA öncesi : ', x_scaled.shape)\n",
    "print('PCA sonrası : ', pca_feat.shape)\n",
    "\n",
    " \n",
    "pca.explained_variance_"
   ]
  },
  {
   "cell_type": "code",
   "execution_count": 22,
   "metadata": {},
   "outputs": [
    {
     "data": {
      "image/png": "[encoded data removed]",
      "text/plain": [
       "<Figure size 640x480 with 1 Axes>"
      ]
     },
     "metadata": {},
     "output_type": "display_data"
    }
   ],
   "source": [
    "sns.set()\n",
    "\n",
    "plt.bar(\n",
    "    range(1,len(pca.explained_variance_)+1),\n",
    "    pca.explained_variance_\n",
    "    )\n",
    " \n",
    "plt.xlabel('PCA Feature')\n",
    "plt.ylabel('Explained variance')\n",
    "plt.title('Feature Explained Variance')\n",
    "plt.show()"
   ]
  },
  {
   "cell_type": "code",
   "execution_count": 23,
   "metadata": {},
   "outputs": [],
   "source": [
    "pca_df = pd.DataFrame(\n",
    "    data=pca_feat, \n",
    "    columns=[\"sepal_length\",\"sepal_weight\"])"
   ]
  },
  {
   "cell_type": "code",
   "execution_count": 24,
   "metadata": {},
   "outputs": [],
   "source": [
    "pca_df[\"class_name\"] = data[\"class_name\"]\n",
    "pca_df[\"class\"] = y\n"
   ]
  },
  {
   "attachments": {},
   "cell_type": "markdown",
   "metadata": {},
   "source": [
    "# Şimdi elimizde kalan iki özellik ile tekrar train edelim ve sonuçları gözlemleyelim."
   ]
  },
  {
   "cell_type": "code",
   "execution_count": 25,
   "metadata": {},
   "outputs": [],
   "source": [
    "X = pca_df.iloc[:, :-2].values\n",
    "y = pca_df.iloc[:, -1].values"
   ]
  },
  {
   "cell_type": "code",
   "execution_count": 26,
   "metadata": {},
   "outputs": [],
   "source": [
    "X_train, X_test, Y_train, Y_test = train_test_split(X, y, test_size=0.2, random_state=110)"
   ]
  },
  {
   "cell_type": "code",
   "execution_count": 27,
   "metadata": {},
   "outputs": [
    {
     "name": "stderr",
     "output_type": "stream",
     "text": [
      "/home/thecoderman/data/Python Apps/text_classification_eda/venv/lib/python3.10/site-packages/sklearn/neural_network/_multilayer_perceptron.py:686: ConvergenceWarning: Stochastic Optimizer: Maximum iterations (200) reached and the optimization hasn't converged yet.\n",
      "  warnings.warn(\n"
     ]
    }
   ],
   "source": [
    "results = {}\n",
    "\n",
    "for index in range(len(models)):\n",
    "    start_time = time.time()\n",
    "    model = models[index]\n",
    "    model.fit(X, y)\n",
    "\n",
    "    Y_pred = model.predict(X_test)\n",
    "    training_time = time.time() - start_time\n",
    "\n",
    "    results[models_description[index]] = [accuracy_score(Y_test, Y_pred),\n",
    "                                  precision_score(Y_test, Y_pred, average='weighted'),\n",
    "                                  recall_score(Y_test, Y_pred, average='weighted'),\n",
    "                                  f1_score(Y_test, Y_pred, average='weighted'),\n",
    "                                  training_time]"
   ]
  },
  {
   "cell_type": "code",
   "execution_count": 28,
   "metadata": {},
   "outputs": [
    {
     "data": {
      "text/html": [
       "<div>\n",
       "<style scoped>\n",
       "    .dataframe tbody tr th:only-of-type {\n",
       "        vertical-align: middle;\n",
       "    }\n",
       "\n",
       "    .dataframe tbody tr th {\n",
       "        vertical-align: top;\n",
       "    }\n",
       "\n",
       "    .dataframe thead th {\n",
       "        text-align: right;\n",
       "    }\n",
       "</style>\n",
       "<table border=\"1\" class=\"dataframe\">\n",
       "  <thead>\n",
       "    <tr style=\"text-align: right;\">\n",
       "      <th></th>\n",
       "      <th>Accuracy</th>\n",
       "      <th>Precision</th>\n",
       "      <th>Recall</th>\n",
       "      <th>F1-Score</th>\n",
       "      <th>Training Time</th>\n",
       "    </tr>\n",
       "  </thead>\n",
       "  <tbody>\n",
       "    <tr>\n",
       "      <th>Decision Tree Classifier</th>\n",
       "      <td>1.000000</td>\n",
       "      <td>1.000000</td>\n",
       "      <td>1.000000</td>\n",
       "      <td>1.000000</td>\n",
       "      <td>0.000830</td>\n",
       "    </tr>\n",
       "    <tr>\n",
       "      <th>Random Forest</th>\n",
       "      <td>1.000000</td>\n",
       "      <td>1.000000</td>\n",
       "      <td>1.000000</td>\n",
       "      <td>1.000000</td>\n",
       "      <td>0.104101</td>\n",
       "    </tr>\n",
       "    <tr>\n",
       "      <th>Support Vector Machines (SVM)</th>\n",
       "      <td>0.666667</td>\n",
       "      <td>0.744444</td>\n",
       "      <td>0.666667</td>\n",
       "      <td>0.687748</td>\n",
       "      <td>0.001292</td>\n",
       "    </tr>\n",
       "    <tr>\n",
       "      <th>K-Nearest Neigbors</th>\n",
       "      <td>0.600000</td>\n",
       "      <td>0.679487</td>\n",
       "      <td>0.600000</td>\n",
       "      <td>0.626667</td>\n",
       "      <td>0.001478</td>\n",
       "    </tr>\n",
       "    <tr>\n",
       "      <th>Logistic Regression</th>\n",
       "      <td>0.600000</td>\n",
       "      <td>0.712083</td>\n",
       "      <td>0.600000</td>\n",
       "      <td>0.623021</td>\n",
       "      <td>0.003555</td>\n",
       "    </tr>\n",
       "    <tr>\n",
       "      <th>Neural Network (Multi Layer Perceptron)</th>\n",
       "      <td>0.566667</td>\n",
       "      <td>0.620317</td>\n",
       "      <td>0.566667</td>\n",
       "      <td>0.584028</td>\n",
       "      <td>0.065115</td>\n",
       "    </tr>\n",
       "  </tbody>\n",
       "</table>\n",
       "</div>"
      ],
      "text/plain": [
       "                                         Accuracy  Precision    Recall   \n",
       "Decision Tree Classifier                 1.000000   1.000000  1.000000  \\\n",
       "Random Forest                            1.000000   1.000000  1.000000   \n",
       "Support Vector Machines (SVM)            0.666667   0.744444  0.666667   \n",
       "K-Nearest Neigbors                       0.600000   0.679487  0.600000   \n",
       "Logistic Regression                      0.600000   0.712083  0.600000   \n",
       "Neural Network (Multi Layer Perceptron)  0.566667   0.620317  0.566667   \n",
       "\n",
       "                                         F1-Score  Training Time  \n",
       "Decision Tree Classifier                 1.000000       0.000830  \n",
       "Random Forest                            1.000000       0.104101  \n",
       "Support Vector Machines (SVM)            0.687748       0.001292  \n",
       "K-Nearest Neigbors                       0.626667       0.001478  \n",
       "Logistic Regression                      0.623021       0.003555  \n",
       "Neural Network (Multi Layer Perceptron)  0.584028       0.065115  "
      ]
     },
     "execution_count": 28,
     "metadata": {},
     "output_type": "execute_result"
    }
   ],
   "source": [
    "df_results = pd.DataFrame.from_dict(results, orient='index', columns=[\"Accuracy\", \"Precision\", \"Recall\", \"F1-Score\", \"Training Time\"] )\n",
    "df_results.sort_values(by=\"F1-Score\", ascending= False, na_position= \"first\")"
   ]
  },
  {
   "cell_type": "code",
   "execution_count": 29,
   "metadata": {},
   "outputs": [
    {
     "data": {
      "image/png": "[encoded data removed]",
      "text/plain": [
       "<Figure size 640x480 with 1 Axes>"
      ]
     },
     "metadata": {},
     "output_type": "display_data"
    }
   ],
   "source": [
    "import numpy as np\n",
    "import matplotlib.pyplot as plt\n",
    " \n",
    "from mpl_toolkits import mplot3d\n",
    "plt.style.use('default')\n",
    " \n",
    "# Prepare 3D graph\n",
    "fig = plt.figure()\n",
    "ax = plt.axes(projection='3d')\n",
    " \n",
    "# Plot scaled features\n",
    "xdata = x_scaled[:,0]\n",
    "ydata = x_scaled[:,1]\n",
    "zdata = x_scaled[:,2]\n",
    " \n",
    "# Plot 3D plot\n",
    "ax.scatter3D(xdata, ydata, zdata, c=zdata, cmap='viridis')\n",
    " \n",
    "# Plot title of graph\n",
    "plt.title(f'3D Scatter')\n",
    " \n",
    "# Plot x, y, z even ticks\n",
    "ticks = np.linspace(-3, 3, num=5)\n",
    "ax.set_xticks(ticks)\n",
    "ax.set_yticks(ticks)\n",
    "ax.set_zticks(ticks)\n",
    " \n",
    "# Plot x, y, z labels\n",
    "ax.set_xlabel('sepal_length', rotation=150)\n",
    "ax.set_ylabel('sepal_width')\n",
    "ax.set_zlabel('petal_length', rotation=60)\n",
    "plt.show()"
   ]
  },
  {
   "attachments": {},
   "cell_type": "markdown",
   "metadata": {},
   "source": [
    "# Sonuçlar:\n",
    "explained_variance_ özelliği, değişkenlerin sonuç üzerinde ki ilişkisini (variance) göstermesi açısından bizim için önemlidir. Buradan hareketle ilk üç değişkenin daha etkili olduğu, 4. değişkenin ise thmin üzerinde ciddi bir etkisi olmadığını görüyoruz. Özellik sayısı önce 3 sonra da ikiye indirildi ve etrain yapıldı. Üç özellikle başarı yukarıya çıkarken iki özellikte başarı düştü. Bu veri seti için en iyi peformans 3 özellik olduğunu söyleyebiliriz.\n",
    "\n",
    "O halde üç değişkene göre PCA uygulayalım."
   ]
  }
 ],
 "metadata": {
  "kernelspec": {
   "display_name": "venv",
   "language": "python",
   "name": "python3"
  },
  "language_info": {
   "codemirror_mode": {
    "name": "ipython",
    "version": 3
   },
   "file_extension": ".py",
   "mimetype": "text/x-python",
   "name": "python",
   "nbconvert_exporter": "python",
   "pygments_lexer": "ipython3",
   "version": "3.10.6"
  },
  "orig_nbformat": 4
 },
 "nbformat": 4,
 "nbformat_minor": 2
}
